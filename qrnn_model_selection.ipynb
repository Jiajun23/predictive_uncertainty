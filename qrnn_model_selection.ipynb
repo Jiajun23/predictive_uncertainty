{
 "cells": [
  {
   "cell_type": "markdown",
   "metadata": {},
   "source": [
    "# QRNN Model Selection\n",
    "\n",
    "This notebook performs a grid search for the best performing neural network configuration for\n",
    "quantile regression. As basic structure for the neural network a feed forward network is used and\n",
    "the following paramters are varied:\n",
    "\n",
    "- Network depth: 1 to 4 layers\n",
    "- Network width: 16, 32, 64, 128, 256 neurons\n",
    "- Activation functions: linear, Sigmoid, ReLU, atan\n"
   ]
  },
  {
   "cell_type": "markdown",
   "metadata": {},
   "source": [
    "## ipyparallel Setup"
   ]
  },
  {
   "cell_type": "code",
   "execution_count": 1,
   "metadata": {
    "collapsed": true
   },
   "outputs": [],
   "source": [
    "import ipyparallel as ipp\n",
    "c     = ipp.Client(profile='mpi')\n",
    "lview = c.load_balanced_view()"
   ]
  },
  {
   "cell_type": "code",
   "execution_count": 2,
   "metadata": {},
   "outputs": [
    {
     "name": "stdout",
     "output_type": "stream",
     "text": [
      "[stdout:0] \n",
      "env: KERAS_BACKEND=tensorflow\n",
      "env: OMP_NUM_THREADS=1\n",
      "[stdout:1] \n",
      "env: KERAS_BACKEND=tensorflow\n",
      "env: OMP_NUM_THREADS=1\n",
      "[stdout:2] \n",
      "env: KERAS_BACKEND=tensorflow\n",
      "env: OMP_NUM_THREADS=1\n",
      "[stdout:3] \n",
      "env: KERAS_BACKEND=tensorflow\n",
      "env: OMP_NUM_THREADS=1\n",
      "[stdout:4] \n",
      "env: KERAS_BACKEND=tensorflow\n",
      "env: OMP_NUM_THREADS=1\n",
      "[stdout:5] \n",
      "env: KERAS_BACKEND=tensorflow\n",
      "env: OMP_NUM_THREADS=1\n",
      "[stdout:6] \n",
      "env: KERAS_BACKEND=tensorflow\n",
      "env: OMP_NUM_THREADS=1\n",
      "[stdout:7] \n",
      "env: KERAS_BACKEND=tensorflow\n",
      "env: OMP_NUM_THREADS=1\n",
      "[stdout:8] \n",
      "env: KERAS_BACKEND=tensorflow\n",
      "env: OMP_NUM_THREADS=1\n",
      "[stdout:9] \n",
      "env: KERAS_BACKEND=tensorflow\n",
      "env: OMP_NUM_THREADS=1\n",
      "[stdout:10] \n",
      "env: KERAS_BACKEND=tensorflow\n",
      "env: OMP_NUM_THREADS=1\n",
      "[stdout:11] \n",
      "env: KERAS_BACKEND=tensorflow\n",
      "env: OMP_NUM_THREADS=1\n",
      "[stdout:12] \n",
      "env: KERAS_BACKEND=tensorflow\n",
      "env: OMP_NUM_THREADS=1\n",
      "[stdout:13] \n",
      "env: KERAS_BACKEND=tensorflow\n",
      "env: OMP_NUM_THREADS=1\n",
      "[stdout:14] \n",
      "env: KERAS_BACKEND=tensorflow\n",
      "env: OMP_NUM_THREADS=1\n",
      "[stdout:15] \n",
      "env: KERAS_BACKEND=tensorflow\n",
      "env: OMP_NUM_THREADS=1\n",
      "[stdout:16] \n",
      "env: KERAS_BACKEND=tensorflow\n",
      "env: OMP_NUM_THREADS=1\n",
      "[stdout:17] \n",
      "env: KERAS_BACKEND=tensorflow\n",
      "env: OMP_NUM_THREADS=1\n",
      "[stdout:18] \n",
      "env: KERAS_BACKEND=tensorflow\n",
      "env: OMP_NUM_THREADS=1\n",
      "[stdout:19] \n",
      "env: KERAS_BACKEND=tensorflow\n",
      "env: OMP_NUM_THREADS=1\n",
      "[stdout:20] \n",
      "env: KERAS_BACKEND=tensorflow\n",
      "env: OMP_NUM_THREADS=1\n",
      "[stdout:21] \n",
      "env: KERAS_BACKEND=tensorflow\n",
      "env: OMP_NUM_THREADS=1\n",
      "[stdout:22] \n",
      "env: KERAS_BACKEND=tensorflow\n",
      "env: OMP_NUM_THREADS=1\n",
      "[stdout:23] \n",
      "env: KERAS_BACKEND=tensorflow\n",
      "env: OMP_NUM_THREADS=1\n",
      "[stdout:24] \n",
      "env: KERAS_BACKEND=tensorflow\n",
      "env: OMP_NUM_THREADS=1\n"
     ]
    },
    {
     "name": "stderr",
     "output_type": "stream",
     "text": [
      "[stderr:0] Using TensorFlow backend.\n",
      "[stderr:1] Using TensorFlow backend.\n",
      "[stderr:2] Using TensorFlow backend.\n",
      "[stderr:3] Using TensorFlow backend.\n",
      "[stderr:4] Using TensorFlow backend.\n",
      "[stderr:5] Using TensorFlow backend.\n",
      "[stderr:6] Using TensorFlow backend.\n",
      "[stderr:7] Using TensorFlow backend.\n",
      "[stderr:8] Using TensorFlow backend.\n",
      "[stderr:9] Using TensorFlow backend.\n",
      "[stderr:10] Using TensorFlow backend.\n",
      "[stderr:11] Using TensorFlow backend.\n",
      "[stderr:12] Using TensorFlow backend.\n",
      "[stderr:13] Using TensorFlow backend.\n",
      "[stderr:14] Using TensorFlow backend.\n",
      "[stderr:15] Using TensorFlow backend.\n",
      "[stderr:16] Using TensorFlow backend.\n",
      "[stderr:17] Using TensorFlow backend.\n",
      "[stderr:18] Using TensorFlow backend.\n",
      "[stderr:19] Using TensorFlow backend.\n",
      "[stderr:20] Using TensorFlow backend.\n",
      "[stderr:21] Using TensorFlow backend.\n",
      "[stderr:22] Using TensorFlow backend.\n",
      "[stderr:23] Using TensorFlow backend.\n",
      "[stderr:24] Using TensorFlow backend.\n"
     ]
    }
   ],
   "source": [
    "%%px\n",
    "%env KERAS_BACKEND=tensorflow\n",
    "%env OMP_NUM_THREADS=1\n",
    "import matplotlib; matplotlib.use(\"agg\")\n",
    "import numpy as np\n",
    "from typhon.retrieval.qrnn import QRNN"
   ]
  },
  {
   "cell_type": "markdown",
   "metadata": {},
   "source": [
    "## Model Setup"
   ]
  },
  {
   "cell_type": "code",
   "execution_count": 3,
   "metadata": {
    "collapsed": true
   },
   "outputs": [],
   "source": [
    "%%px\n",
    "quantiles = np.array([0.05, 0.1, 0.2, 0.3, 0.4, 0.5, 0.6, 0.7, 0.8, 0.9, 0.95])\n",
    "def create_model(depth, width, act_fn):\n",
    "    qrnn = QRNN(5, quantiles, depth, width, act_fn)\n",
    "    return qrnn"
   ]
  },
  {
   "cell_type": "markdown",
   "metadata": {},
   "source": [
    "## Cross Validation\n",
    "\n",
    "Cross validation is used to determine the expected values of the quantile loss for each estimated quantile as well as the CRPS score of the estimated posterior."
   ]
  },
  {
   "cell_type": "code",
   "execution_count": 4,
   "metadata": {
    "collapsed": true
   },
   "outputs": [],
   "source": [
    "%%px\n",
    "from typhon.retrieval.scores import mean_quantile_score\n",
    "x_train = np.load(\"src/atms_simulations/data/x_train_5.npy\")\n",
    "y_train = np.load(\"src/atms_simulations/data/y_train_5.npy\")\n",
    "\n",
    "def score(y_pred, y_test):\n",
    "    quantile_scores = mean_quantile_score(y_pred, y_test, quantiles)\n",
    "    crps = QRNN.crps(y_pred, y_test, quantiles)\n",
    "    return np.append(quantile_scores, crps)"
   ]
  },
  {
   "cell_type": "code",
   "execution_count": 6,
   "metadata": {
    "collapsed": true
   },
   "outputs": [],
   "source": [
    "def run_cross_validation(config):\n",
    "    depth, width, act_fn = config\n",
    "    qrnn = create_model(depth, width, act_fn)\n",
    "    return qrnn.cross_validation(x_train, y_train, 1.0, n_folds = 10)"
   ]
  },
  {
   "cell_type": "markdown",
   "metadata": {},
   "source": [
    "## Running the Calculations"
   ]
  },
  {
   "cell_type": "code",
   "execution_count": 7,
   "metadata": {
    "collapsed": true
   },
   "outputs": [],
   "source": [
    "depths = [0, 1, 2, 3]\n",
    "widths = [8, 16, 32, 64, 96, 128, 256]\n",
    "act_funcs = [\"linear\", \"tanh\", \"sigmoid\", \"relu\"]\n",
    "configs = [(d, w, f) for d in depths for w in widths for f in act_funcs]\n",
    "async_results = lview.map_async(run_cross_validation, configs)"
   ]
  },
  {
   "cell_type": "code",
   "execution_count": 46,
   "metadata": {},
   "outputs": [
    {
     "name": "stdout",
     "output_type": "stream",
     "text": [
      "(0, 8, 'linear')\n",
      "Result: (4.5268916137542714, 0.037262705080625382)\n",
      "(0, 8, 'tanh')\n",
      "Result: (4.5244718184051518, 0.047940322537508878)\n",
      "(0, 8, 'sigmoid')\n",
      "Result: (4.5219965613632214, 0.028443604477790978)\n",
      "(0, 8, 'relu')\n",
      "Result: (4.5254493644714353, 0.055157733472477329)\n",
      "(0, 16, 'linear')\n",
      "Result: (4.530808489814758, 0.054663646324619779)\n",
      "(0, 16, 'tanh')\n",
      "Result: (4.5255652244644171, 0.03952714897145259)\n",
      "(0, 16, 'sigmoid')\n",
      "Result: (4.5257472024841308, 0.032462225651199501)\n",
      "(0, 16, 'relu')\n",
      "Result: (4.5313666663742067, 0.05968068416569533)\n",
      "(0, 32, 'linear')\n",
      "Result: (4.5260719536666869, 0.052145556534043791)\n",
      "(0, 32, 'tanh')\n",
      "Result: (4.5268492654266357, 0.041273338209282286)\n",
      "(0, 32, 'sigmoid')\n",
      "Result: (4.524876857772826, 0.054574557531647784)\n",
      "(0, 32, 'relu')\n",
      "Result: (4.5238178139419549, 0.060001441647477123)\n",
      "(0, 64, 'linear')\n",
      "Result: (4.5273485811500551, 0.033067939106466)\n",
      "(0, 64, 'tanh')\n",
      "Result: (4.5225239240417476, 0.063427679513604771)\n",
      "(0, 64, 'sigmoid')\n",
      "Result: (4.5294175024948125, 0.032228750988823926)\n",
      "(0, 64, 'relu')\n",
      "Result: (4.5200156639099118, 0.02861002256889008)\n",
      "(0, 96, 'linear')\n",
      "Result: (4.5230257889938352, 0.019498615682598613)\n",
      "(0, 96, 'tanh')\n",
      "Result: (4.5259811271514891, 0.034260740470630609)\n",
      "(0, 96, 'sigmoid')\n",
      "Result: (4.5227366017303465, 0.032727052145459519)\n",
      "(0, 96, 'relu')\n",
      "Result: (4.5259233795623777, 0.057480999335223021)\n",
      "(0, 128, 'linear')\n",
      "Result: (4.5247193719711296, 0.049224679292146002)\n",
      "(0, 128, 'tanh')\n",
      "Result: (4.5235016121597287, 0.035647639257916974)\n",
      "(0, 128, 'sigmoid')\n",
      "Result: (4.5262962586669921, 0.042872534559974119)\n",
      "(0, 128, 'relu')\n",
      "Result: (4.5282986711883542, 0.043447984544443846)\n",
      "(0, 256, 'linear')\n",
      "Result: (4.5227631713867193, 0.04863797016365122)\n",
      "(0, 256, 'tanh')\n",
      "Result: (4.5236388667602538, 0.037732269786992796)\n",
      "(0, 256, 'sigmoid')\n",
      "Result: (4.5269158056259151, 0.043353554357909427)\n",
      "(0, 256, 'relu')\n",
      "Result: (4.5224556703948977, 0.062842153056242508)\n",
      "(1, 8, 'linear')\n",
      "Result: (4.5176196033782956, 0.045753324286057946)\n",
      "(1, 8, 'tanh')\n",
      "Result: (1.7138122262363435, 0.15522624324203374)\n",
      "(1, 8, 'sigmoid')\n",
      "Result: (1.53902365268898, 0.099874277488458382)\n",
      "(1, 8, 'relu')\n",
      "Result: (1.3117034117546083, 0.019657838022538999)\n",
      "(1, 16, 'linear')\n",
      "Result: (4.5173063667602538, 0.03162118922114248)\n",
      "(1, 16, 'tanh')\n",
      "Result: (1.216906963481903, 0.070851587990545431)\n",
      "(1, 16, 'sigmoid')\n",
      "Result: (1.3757059301681518, 0.053176824092274526)\n",
      "(1, 16, 'relu')\n",
      "Result: (1.028664421617508, 0.017379801883801796)\n",
      "(1, 32, 'linear')\n",
      "Result: (4.517141964241028, 0.034444230414635797)\n",
      "(1, 32, 'tanh')\n",
      "Result: (1.0592018224086763, 0.029321322010639909)\n",
      "(1, 32, 'sigmoid')\n",
      "Result: (1.1246206404323575, 0.033173280528478018)\n",
      "(1, 32, 'relu')\n",
      "Result: (0.96824695817756656, 0.0096122931187078813)\n",
      "(1, 64, 'linear')\n",
      "Result: (4.5169003033447259, 0.032581371338052979)\n",
      "(1, 64, 'tanh')\n",
      "Result: (0.98246876965713492, 0.029525583843292971)\n",
      "(1, 64, 'sigmoid')\n",
      "Result: (1.0152832713069917, 0.041451704093289361)\n",
      "(1, 64, 'relu')\n",
      "Result: (0.93853070822525031, 0.012497474723140067)\n",
      "(1, 96, 'linear')\n",
      "Result: (4.5176516000213622, 0.042258416814530277)\n",
      "(1, 96, 'tanh')\n",
      "Result: (0.97538920951271069, 0.039451131898288)\n",
      "(1, 96, 'sigmoid')\n",
      "Result: (0.99189550078773492, 0.029212268412254508)\n",
      "(1, 96, 'relu')\n",
      "Result: (0.9302466283874512, 0.0099436638615301113)\n",
      "(1, 128, 'linear')\n",
      "Result: (4.5172798375244145, 0.033292594596943677)\n",
      "(1, 128, 'tanh')\n",
      "Result: (0.95858944725227357, 0.024385405033303449)\n",
      "(1, 128, 'sigmoid')\n",
      "Result: (0.97055233493041992, 0.018354306124578397)\n",
      "(1, 128, 'relu')\n",
      "Result: (0.93025300576972947, 0.010105682371797266)\n",
      "(1, 256, 'linear')\n",
      "Result: (4.5170143000793459, 0.037506677372329239)\n",
      "(1, 256, 'tanh')\n",
      "Result: (0.94722666838264469, 0.022945038203803027)\n",
      "(1, 256, 'sigmoid')\n",
      "Result: (0.96594622445487965, 0.024267100642676794)\n",
      "(1, 256, 'relu')\n",
      "Result: (0.92418258327484126, 0.0039420112872319245)\n",
      "(2, 8, 'linear')\n",
      "Result: (4.5170695067825317, 0.037718932800831391)\n",
      "(2, 8, 'tanh')\n",
      "Result: (1.6402163880233764, 0.11094718544009718)\n",
      "(2, 8, 'sigmoid')\n",
      "Result: (1.5087371016635895, 0.1026162235155159)\n",
      "(2, 8, 'relu')\n",
      "Result: (1.1749077381572726, 0.013241597570562489)\n",
      "(2, 16, 'linear')\n",
      "Result: (4.5169887092285155, 0.026512014742161652)\n",
      "(2, 16, 'tanh')\n",
      "Result: (1.2328790681972503, 0.064644586258781792)\n",
      "(2, 16, 'sigmoid')\n",
      "Result: (1.2776125799198152, 0.057293775222490621)\n",
      "(2, 16, 'relu')\n",
      "Result: (1.0486049090938567, 0.014211286259531608)\n",
      "(2, 32, 'linear')\n",
      "Result: (4.5173540881729126, 0.030066912692120591)\n",
      "(2, 32, 'tanh')\n",
      "Result: (1.0432909637699128, 0.030674659175902584)\n",
      "(2, 32, 'sigmoid')\n",
      "Result: (1.1748537681541444, 0.031707362352580336)\n",
      "(2, 32, 'relu')\n",
      "Result: (0.96551046498298665, 0.020112934945347844)\n",
      "(2, 64, 'linear')\n",
      "Result: (4.5168960489654539, 0.04157244674561953)\n",
      "(2, 64, 'tanh')\n",
      "Result: (0.99804590001869209, 0.036791246272020489)\n",
      "(2, 64, 'sigmoid')\n",
      "Result: (1.0149866154079434, 0.046093690895673584)\n",
      "(2, 64, 'relu')\n",
      "Result: (0.93263642161750793, 0.0070143612146251807)\n",
      "(2, 96, 'linear')\n",
      "Result: (4.5158432213821413, 0.031350649695628938)\n",
      "(2, 96, 'tanh')\n",
      "Result: (0.96588343505477925, 0.020083270774547593)\n",
      "(2, 96, 'sigmoid')\n",
      "Result: (1.0095335297584536, 0.050329100413333168)\n",
      "(2, 96, 'relu')\n",
      "Result: (0.92575994250679017, 0.0096745003957737288)\n",
      "(2, 128, 'linear')\n",
      "Result: (4.5165415941467284, 0.039215873826217357)\n",
      "(2, 128, 'tanh')\n",
      "Result: (0.9546982667026519, 0.01882599564076454)\n",
      "(2, 128, 'sigmoid')\n",
      "Result: (0.97936510059547432, 0.022141646956262591)\n",
      "(2, 128, 'relu')\n",
      "Result: (0.92559063778686534, 0.0065691092145928453)\n",
      "(2, 256, 'linear')\n",
      "Result: (4.5176061795349121, 0.036264238171423997)\n",
      "(2, 256, 'tanh')\n",
      "Result: (0.95674403189849855, 0.030772188483111092)\n",
      "(2, 256, 'sigmoid')\n",
      "Result: (0.95510538439369197, 0.022887794346125225)\n",
      "(2, 256, 'relu')\n",
      "Result: (0.92288506689262384, 0.0087640845557028849)\n",
      "(3, 8, 'linear')\n",
      "Result: (4.5171502992172234, 0.033877410408714108)\n",
      "(3, 8, 'tanh')\n",
      "Result: (1.5853566224021911, 0.21579934587156846)\n",
      "(3, 8, 'sigmoid')\n",
      "Result: (1.2388635328426361, 0.056976705067445774)\n",
      "(3, 8, 'relu')\n",
      "Result: (1.0552153470478056, 0.045209843967032572)\n",
      "(3, 16, 'linear')\n",
      "Result: (4.516968647583008, 0.035598684281259535)\n",
      "(3, 16, 'tanh')\n",
      "Result: (1.1432396269912719, 0.049828328099332068)\n",
      "(3, 16, 'sigmoid')\n",
      "Result: (1.0705017980709075, 0.051842237118982767)\n",
      "(3, 16, 'relu')\n",
      "Result: (0.94536378446197511, 0.014473653704044834)\n",
      "(3, 32, 'linear')\n",
      "Result: (4.516906394630432, 0.040845287459607194)\n",
      "(3, 32, 'tanh')\n",
      "Result: (1.0493380637435914, 0.045475019721964667)\n",
      "(3, 32, 'sigmoid')\n",
      "Result: (1.01255920621109, 0.049970857108432742)\n",
      "(3, 32, 'relu')\n",
      "Result: (0.92370313681602467, 0.019165371556459729)\n",
      "(3, 64, 'linear')\n",
      "Result: (4.5180324240798955, 0.044183622660722524)\n",
      "(3, 64, 'tanh')\n",
      "Result: (0.97032349102592474, 0.022675748967153356)\n",
      "(3, 64, 'sigmoid')\n",
      "Result: (0.97348451657104496, 0.030501174116038688)\n",
      "(3, 64, 'relu')\n",
      "Result: (0.91335858219718935, 0.0095545097806822143)\n",
      "(3, 96, 'linear')\n",
      "Result: (4.5172765040817264, 0.025758219298253886)\n",
      "(3, 96, 'tanh')\n",
      "Result: (0.954548704328537, 0.024809848458853173)\n",
      "(3, 96, 'sigmoid')\n",
      "Result: (0.95995964901161202, 0.015134111315833967)\n",
      "(3, 96, 'relu')\n",
      "Result: (0.91016638074779499, 0.0099647402268624955)\n",
      "(3, 128, 'linear')\n",
      "Result: (4.5165538526382445, 0.044838409043604116)\n",
      "(3, 128, 'tanh')\n",
      "Result: (0.94989161839675906, 0.021715029789775502)\n",
      "(3, 128, 'sigmoid')\n",
      "Result: (0.96545011480903631, 0.025699145042624178)\n",
      "(3, 128, 'relu')\n",
      "Result: (0.90793154870986947, 0.0070274941784320604)\n",
      "(3, 256, 'linear')\n",
      "Result: (4.5170809193191532, 0.054090247616336982)\n",
      "(3, 256, 'tanh')\n",
      "Result: (0.93944361733436588, 0.019544984059921933)\n",
      "(3, 256, 'sigmoid')\n",
      "Result: (0.94696959770393363, 0.027171934681412799)\n",
      "(3, 256, 'relu')\n",
      "Result: (0.90394867854118355, 0.0075760400973193011)\n"
     ]
    }
   ],
   "source": [
    "results = []\n",
    "for i,r in enumerate(async_results):\n",
    "    print(configs[i])\n",
    "    print(\"Result: \" + str(r))\n",
    "    results += [(configs[i], r)]"
   ]
  },
  {
   "cell_type": "code",
   "execution_count": 16,
   "metadata": {
    "collapsed": true
   },
   "outputs": [],
   "source": [
    "import numpy as np\n",
    "res = {\"linear\"  : np.zeros((len(depths), len(widths), 2)),\n",
    "       \"relu\"    : np.zeros((len(depths), len(widths), 2)),\n",
    "       \"tanh\"    : np.zeros((len(depths), len(widths), 2)),\n",
    "       \"sigmoid\" : np.zeros((len(depths), len(widths), 2))}\n",
    "inds = dict(zip(widths, range(len(widths))))\n",
    "\n",
    "for ((n_layers, width, act), (mean, std)) in results:\n",
    "    res[act][int(n_layers), inds[width], 0] = mean\n",
    "    res[act][int(n_layers), inds[width], 1] = std"
   ]
  },
  {
   "cell_type": "code",
   "execution_count": 44,
   "metadata": {
    "collapsed": true
   },
   "outputs": [],
   "source": [
    "def print_table(res, fn = None):\n",
    "    s = r\"\"\n",
    "    for j in range(res.shape[1]):\n",
    "        s += r\" & $n_n = {0}$ \".format(widths[j])\n",
    "    s += r\"\\\\ \\hline\"\n",
    "    for i in range(res.shape[0]):\n",
    "        s += \"$n_h =  {0}$ & \".format(i)\n",
    "        for j in range(res.shape[1] - 1):\n",
    "            s += r\"${:.2} \\pm {:.2}$ & \".format(res[i, j, 0], res[i, j, 1])\n",
    "        s += r\"${:.2} \\pm {:.2}$ \\\\ \".format(res[i, j, 0], res[i, j, 1])\n",
    "    s+=\"\\hline\"\n",
    "        \n",
    "    if fn:\n",
    "        f = open(fn, \"w\")\n",
    "        f.write(s)\n",
    "        f.close()\n",
    "    else:\n",
    "        return s    \n",
    "    \n",
    "def print_table2(res1, res2, fn = None):\n",
    "    s = \"\"\n",
    "    for i in range(res1.shape[0]):\n",
    "        s += \"$n_h = i$ &\"\n",
    "        for j in range(res1.shape[1]):\n",
    "            s += r\"${:.2} \\pm {:.2}$ & \".format(res1[i, j, 0], res1[i, j, 1])\n",
    "        for j in range(res2.shape[1] - 1):\n",
    "            s += r\"${:.2} \\pm {:.2}$ & \".format(res2[i, j, 0], res2[i, j, 1])\n",
    "        s += r\"${:.2} \\pm {:.2}$ \\\\ \".format(res2[i, j, 0], res2[i, j, 1])\n",
    "        \n",
    "    if fn:\n",
    "        f = open(fn, \"w\")\n",
    "        f.write(s)\n",
    "        f.close()\n",
    "    else:\n",
    "        return s    "
   ]
  },
  {
   "cell_type": "code",
   "execution_count": 45,
   "metadata": {
    "collapsed": true,
    "scrolled": true
   },
   "outputs": [],
   "source": [
    "print_table(res[\"linear\"],  \"tables/linear.tbl\")\n",
    "print_table(res[\"sigmoid\"], \"tables/sigmoid.tbl\")\n",
    "print_table(res[\"tanh\"],    \"tables/tanh.tbl\")\n",
    "print_table(res[\"relu\"],    \"tables/relu.tbl\")"
   ]
  },
  {
   "cell_type": "markdown",
   "metadata": {},
   "source": [
    "## Training Parameters"
   ]
  },
  {
   "cell_type": "code",
   "execution_count": 5,
   "metadata": {
    "collapsed": true
   },
   "outputs": [],
   "source": [
    "def run_cross_validation(config):\n",
    "    batch_size, lr_decay, lr_minimum, convergence_epochs = config\n",
    "    qrnn = create_model(3, 128, \"relu\")\n",
    "    return qrnn.cross_validation(x_train, y_train, 1.0, n_folds = 10,\n",
    "                                 batch_size = batch_size,\n",
    "                                 learning_rate_decay = lr_decay,\n",
    "                                 learning_rate_minimum = lr_minimum,\n",
    "                                 convergence_epochs = convergence_epochs)"
   ]
  },
  {
   "cell_type": "code",
   "execution_count": 6,
   "metadata": {
    "collapsed": true
   },
   "outputs": [],
   "source": [
    "configs = []\n",
    "configs += [(bs, 2.0, 1e-6, 2) for bs in [128, 256, 512, 1024]]\n",
    "configs += [(256, lrd, 1e-6, 2) for lrd in [1.5, 2.0, 5.0, 10.0]]\n",
    "configs += [(256, 2.0, 10 ** -lrm, 2) for lrm in [4, 5, 6, 7, 8]]\n",
    "configs += [(256, 2.0, 1e-6, ce) for ce in [1, 2, 4, 8]]"
   ]
  },
  {
   "cell_type": "code",
   "execution_count": 8,
   "metadata": {
    "collapsed": true
   },
   "outputs": [],
   "source": [
    "async_results = lview.map_async(run_cross_validation, configs)"
   ]
  },
  {
   "cell_type": "code",
   "execution_count": 9,
   "metadata": {},
   "outputs": [
    {
     "name": "stdout",
     "output_type": "stream",
     "text": [
      "(128, 2.0, 1e-06, 2)\n",
      "Result: (0.90578844951438897, 0.0081078108798440015)\n",
      "(256, 2.0, 1e-06, 2)\n",
      "Result: (0.91163818877601632, 0.0064749937914909033)\n",
      "(512, 2.0, 1e-06, 2)\n",
      "Result: (0.92271153948783868, 0.020830085622155849)\n",
      "(1024, 2.0, 1e-06, 2)\n",
      "Result: (0.93683845387268061, 0.020763810960643149)\n",
      "(256, 1.5, 1e-06, 2)\n",
      "Result: (0.91013961412239086, 0.0063265646771658041)\n",
      "(256, 2.0, 1e-06, 2)\n",
      "Result: (0.91320789633178712, 0.012580609311199118)\n",
      "(256, 5.0, 1e-06, 2)\n",
      "Result: (0.91662052987861631, 0.01052368406147664)\n",
      "(256, 10.0, 1e-06, 2)\n",
      "Result: (0.91795649431800841, 0.015360465991840955)\n",
      "(256, 2.0, 0.0001, 2)\n",
      "Result: (0.91043027124023435, 0.006420343418558328)\n",
      "(256, 2.0, 1e-05, 2)\n",
      "Result: (0.91255380694198607, 0.0070071830737801141)\n",
      "(256, 2.0, 1e-06, 2)\n",
      "Result: (0.91766805414772035, 0.010873377442336652)\n",
      "(256, 2.0, 1e-07, 2)\n",
      "Result: (0.91874591431236274, 0.014040805722100822)\n",
      "(256, 2.0, 1e-08, 2)\n",
      "Result: (0.91810450534629806, 0.021963042344801943)\n",
      "(256, 2.0, 1e-06, 1)\n",
      "Result: (0.91563019120407108, 0.017960504442175316)\n",
      "(256, 2.0, 1e-06, 2)\n",
      "Result: (0.91875616248893743, 0.019802076030250741)\n",
      "(256, 2.0, 1e-06, 4)\n",
      "Result: (0.90666980062294011, 0.0084810920075397006)\n",
      "(256, 2.0, 1e-06, 8)\n",
      "Result: (0.90356772063827528, 0.005805702090364951)\n"
     ]
    }
   ],
   "source": [
    "results = []\n",
    "for i,r in enumerate(async_results):\n",
    "    print(configs[i])\n",
    "    print(\"Result: \" + str(r))\n",
    "    results += [(configs[i], r)]"
   ]
  },
  {
   "cell_type": "code",
   "execution_count": 12,
   "metadata": {
    "collapsed": true
   },
   "outputs": [],
   "source": [
    "configs = []\n",
    "configs += [(64, lrd, 1e-6, 2) for lrd in [1.2, 1.5, 2.0]]\n",
    "configs += [(64, 2.0, 10 ** -lrm, 2) for lrm in [3, 4, 5, 6]]\n",
    "configs += [(64, 2.0, 1e-6, ce) for ce in [1, 2, 4, 8]]\n",
    "async_results = lview.map_async(run_cross_validation, configs)"
   ]
  },
  {
   "cell_type": "code",
   "execution_count": 13,
   "metadata": {},
   "outputs": [
    {
     "name": "stdout",
     "output_type": "stream",
     "text": [
      "(64, 1.2, 1e-06, 2)\n",
      "Result: (0.89952332299423199, 0.0065377489453016082)\n",
      "(64, 1.5, 1e-06, 2)\n",
      "Result: (0.90161739125633233, 0.0086176645337436245)\n",
      "(64, 2.0, 1e-06, 2)\n",
      "Result: (0.90152903881454471, 0.00615886249641244)\n",
      "(64, 2.0, 0.001, 2)\n",
      "Result: (0.91008012251090997, 0.0050518619193384105)\n",
      "(64, 2.0, 0.0001, 2)\n",
      "Result: (0.90170960564231883, 0.0087728255696332968)\n",
      "(64, 2.0, 1e-05, 2)\n",
      "Result: (0.90167167879104626, 0.0068331846874113526)\n",
      "(64, 2.0, 1e-06, 2)\n",
      "Result: (0.900728275522232, 0.0093753006703030176)\n",
      "(64, 2.0, 1e-06, 1)\n",
      "Result: (0.90539736339759824, 0.0086392432600369915)\n",
      "(64, 2.0, 1e-06, 2)\n",
      "Result: (0.90346704487419127, 0.0066362010197610699)\n",
      "(64, 2.0, 1e-06, 4)\n",
      "Result: (0.90078221081542953, 0.0075512973896067958)\n",
      "(64, 2.0, 1e-06, 8)\n",
      "Result: (0.8986799619350434, 0.0041661199044197043)\n"
     ]
    }
   ],
   "source": [
    "results = []\n",
    "for i,r in enumerate(async_results):\n",
    "    print(configs[i])\n",
    "    print(\"Result: \" + str(r))\n",
    "    results += [(configs[i], r)]"
   ]
  }
 ],
 "metadata": {
  "kernelspec": {
   "display_name": "Python 3",
   "language": "python",
   "name": "python3"
  },
  "language_info": {
   "codemirror_mode": {
    "name": "ipython",
    "version": 3
   },
   "file_extension": ".py",
   "mimetype": "text/x-python",
   "name": "python",
   "nbconvert_exporter": "python",
   "pygments_lexer": "ipython3",
   "version": "3.6.1"
  }
 },
 "nbformat": 4,
 "nbformat_minor": 2
}
